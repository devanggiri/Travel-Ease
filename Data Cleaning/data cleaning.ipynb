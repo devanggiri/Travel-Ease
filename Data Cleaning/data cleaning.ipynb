{
 "cells": [
  {
   "cell_type": "code",
   "execution_count": null,
   "metadata": {},
   "outputs": [],
   "source": [
    "import pandas as pd\n",
    "\n",
    "# Load the data into a DataFrame\n",
    "df_t = pd.read_csv('tourist_spots.csv')\n",
    "\n",
    "# Sort the DataFrame based on a specific column, for example, 'Name'\n",
    "df_travel = df_t.sort_values(by='State')\n",
    "\n",
    "# Save the sorted DataFrame to a new CSV file\n",
    "df_travel.to_csv('tourist_spots_sorted.csv', index=False)\n",
    "# Display the sorted DataFrame (optional)\n",
    "#print(df_travel)\n"
   ]
  },
  {
   "cell_type": "code",
   "execution_count": null,
   "metadata": {},
   "outputs": [],
   "source": [
    "# Load the data into a DataFrame\n",
    "df = pd.read_csv('temperatur.csv')\n",
    "\n",
    "# Sort the DataFrame based on a specific column, for example, 'Name'\n",
    "sorted_df = df.sort_values(by='States')\n",
    "\n",
    "# Save the sorted DataFrame to a new CSV file\n",
    "sorted_df.to_csv('temperature_sorted.csv', index=False)\n",
    "# Display the sorted DataFrame (optional)\n",
    "#print(sorted_df)\n"
   ]
  },
  {
   "cell_type": "markdown",
   "metadata": {},
   "source": [
    "# Data Cleaning and Pre-Processing"
   ]
  },
  {
   "cell_type": "markdown",
   "metadata": {},
   "source": [
    "Load Dataset    "
   ]
  },
  {
   "cell_type": "code",
   "execution_count": 4,
   "metadata": {},
   "outputs": [
    {
     "data": {
      "text/html": [
       "<div>\n",
       "<style scoped>\n",
       "    .dataframe tbody tr th:only-of-type {\n",
       "        vertical-align: middle;\n",
       "    }\n",
       "\n",
       "    .dataframe tbody tr th {\n",
       "        vertical-align: top;\n",
       "    }\n",
       "\n",
       "    .dataframe thead th {\n",
       "        text-align: right;\n",
       "    }\n",
       "</style>\n",
       "<table border=\"1\" class=\"dataframe\">\n",
       "  <thead>\n",
       "    <tr style=\"text-align: right;\">\n",
       "      <th></th>\n",
       "      <th>Unnamed: 0</th>\n",
       "      <th>Zone</th>\n",
       "      <th>State</th>\n",
       "      <th>City</th>\n",
       "      <th>Name</th>\n",
       "      <th>Type</th>\n",
       "      <th>Establishment Year</th>\n",
       "      <th>time needed to visit in hrs</th>\n",
       "      <th>Google review rating</th>\n",
       "      <th>Entrance Fee in INR</th>\n",
       "      <th>Airport with 50km Radius</th>\n",
       "      <th>Weekly Off</th>\n",
       "      <th>Significance</th>\n",
       "      <th>DSLR Allowed</th>\n",
       "      <th>Number of google review in lakhs</th>\n",
       "      <th>Best Time to visit</th>\n",
       "    </tr>\n",
       "  </thead>\n",
       "  <tbody>\n",
       "    <tr>\n",
       "      <th>0</th>\n",
       "      <td>292</td>\n",
       "      <td>Southern</td>\n",
       "      <td>Andaman and Nicobar Islands</td>\n",
       "      <td>Neil Island</td>\n",
       "      <td>Bharatpur Beach</td>\n",
       "      <td>Beach</td>\n",
       "      <td>Unknown</td>\n",
       "      <td>1.0</td>\n",
       "      <td>4.5</td>\n",
       "      <td>0</td>\n",
       "      <td>No</td>\n",
       "      <td>None</td>\n",
       "      <td>Nature</td>\n",
       "      <td>Yes</td>\n",
       "      <td>0.040</td>\n",
       "      <td>Morning</td>\n",
       "    </tr>\n",
       "    <tr>\n",
       "      <th>1</th>\n",
       "      <td>291</td>\n",
       "      <td>Southern</td>\n",
       "      <td>Andaman and Nicobar Islands</td>\n",
       "      <td>Havelock Island</td>\n",
       "      <td>Radhanagar Beach</td>\n",
       "      <td>Beach</td>\n",
       "      <td>Unknown</td>\n",
       "      <td>1.0</td>\n",
       "      <td>4.8</td>\n",
       "      <td>0</td>\n",
       "      <td>No</td>\n",
       "      <td>None</td>\n",
       "      <td>Nature</td>\n",
       "      <td>Yes</td>\n",
       "      <td>0.090</td>\n",
       "      <td>Morning</td>\n",
       "    </tr>\n",
       "    <tr>\n",
       "      <th>2</th>\n",
       "      <td>290</td>\n",
       "      <td>Southern</td>\n",
       "      <td>Andaman and Nicobar Islands</td>\n",
       "      <td>Port Blair</td>\n",
       "      <td>Cellular Jail</td>\n",
       "      <td>Landmark</td>\n",
       "      <td>1906</td>\n",
       "      <td>1.5</td>\n",
       "      <td>4.7</td>\n",
       "      <td>30</td>\n",
       "      <td>Yes</td>\n",
       "      <td>Monday</td>\n",
       "      <td>Historical</td>\n",
       "      <td>Yes</td>\n",
       "      <td>0.120</td>\n",
       "      <td>Afternoon</td>\n",
       "    </tr>\n",
       "    <tr>\n",
       "      <th>3</th>\n",
       "      <td>293</td>\n",
       "      <td>Southern</td>\n",
       "      <td>Andaman and Nicobar Islands</td>\n",
       "      <td>Baratang Island</td>\n",
       "      <td>Limestone Caves</td>\n",
       "      <td>Natural Feature</td>\n",
       "      <td>Unknown</td>\n",
       "      <td>1.5</td>\n",
       "      <td>4.4</td>\n",
       "      <td>250</td>\n",
       "      <td>No</td>\n",
       "      <td>None</td>\n",
       "      <td>Nature</td>\n",
       "      <td>Yes</td>\n",
       "      <td>0.015</td>\n",
       "      <td>Morning</td>\n",
       "    </tr>\n",
       "    <tr>\n",
       "      <th>4</th>\n",
       "      <td>253</td>\n",
       "      <td>Southern</td>\n",
       "      <td>Andhra Pradesh</td>\n",
       "      <td>Kurnool</td>\n",
       "      <td>Belum Caves</td>\n",
       "      <td>Cave</td>\n",
       "      <td>Unknown</td>\n",
       "      <td>1.5</td>\n",
       "      <td>4.4</td>\n",
       "      <td>65</td>\n",
       "      <td>Yes</td>\n",
       "      <td>None</td>\n",
       "      <td>Natural Wonder</td>\n",
       "      <td>Yes</td>\n",
       "      <td>0.110</td>\n",
       "      <td>Afternoon</td>\n",
       "    </tr>\n",
       "  </tbody>\n",
       "</table>\n",
       "</div>"
      ],
      "text/plain": [
       "   Unnamed: 0      Zone                        State             City  \\\n",
       "0         292  Southern  Andaman and Nicobar Islands      Neil Island   \n",
       "1         291  Southern  Andaman and Nicobar Islands  Havelock Island   \n",
       "2         290  Southern  Andaman and Nicobar Islands       Port Blair   \n",
       "3         293  Southern  Andaman and Nicobar Islands  Baratang Island   \n",
       "4         253  Southern               Andhra Pradesh          Kurnool   \n",
       "\n",
       "               Name             Type Establishment Year  \\\n",
       "0   Bharatpur Beach            Beach            Unknown   \n",
       "1  Radhanagar Beach            Beach            Unknown   \n",
       "2     Cellular Jail         Landmark               1906   \n",
       "3   Limestone Caves  Natural Feature            Unknown   \n",
       "4       Belum Caves             Cave            Unknown   \n",
       "\n",
       "   time needed to visit in hrs  Google review rating  Entrance Fee in INR  \\\n",
       "0                          1.0                   4.5                    0   \n",
       "1                          1.0                   4.8                    0   \n",
       "2                          1.5                   4.7                   30   \n",
       "3                          1.5                   4.4                  250   \n",
       "4                          1.5                   4.4                   65   \n",
       "\n",
       "  Airport with 50km Radius Weekly Off    Significance DSLR Allowed  \\\n",
       "0                       No       None          Nature          Yes   \n",
       "1                       No       None          Nature          Yes   \n",
       "2                      Yes     Monday      Historical          Yes   \n",
       "3                       No       None          Nature          Yes   \n",
       "4                      Yes       None  Natural Wonder          Yes   \n",
       "\n",
       "   Number of google review in lakhs Best Time to visit  \n",
       "0                             0.040            Morning  \n",
       "1                             0.090            Morning  \n",
       "2                             0.120          Afternoon  \n",
       "3                             0.015            Morning  \n",
       "4                             0.110          Afternoon  "
      ]
     },
     "execution_count": 4,
     "metadata": {},
     "output_type": "execute_result"
    }
   ],
   "source": [
    "# Import necessary libraries\n",
    "import pandas as pd\n",
    "\n",
    "# Load the CSV file\n",
    "file_path = 'tourist_spots_sorted.csv'\n",
    "data = pd.read_csv(file_path)\n",
    "\n",
    "# Display the first few rows of the DataFrame\n",
    "data.head()\n"
   ]
  },
  {
   "cell_type": "markdown",
   "metadata": {},
   "source": [
    "Check for NAN Values"
   ]
  },
  {
   "cell_type": "code",
   "execution_count": 5,
   "metadata": {},
   "outputs": [
    {
     "name": "stdout",
     "output_type": "stream",
     "text": [
      "NaN Values:\n",
      "Unnamed: 0                          0\n",
      "Zone                                0\n",
      "State                               0\n",
      "City                                0\n",
      "Name                                0\n",
      "Type                                0\n",
      "Establishment Year                  0\n",
      "time needed to visit in hrs         0\n",
      "Google review rating                0\n",
      "Entrance Fee in INR                 0\n",
      "Airport with 50km Radius            0\n",
      "Weekly Off                          0\n",
      "Significance                        0\n",
      "DSLR Allowed                        0\n",
      "Number of google review in lakhs    0\n",
      "Best Time to visit                  0\n",
      "dtype: int64\n",
      "Rows with NaN values:\n",
      "Empty DataFrame\n",
      "Columns: [Unnamed: 0, Zone, State, City, Name, Type, Establishment Year, time needed to visit in hrs, Google review rating, Entrance Fee in INR, Airport with 50km Radius, Weekly Off, Significance, DSLR Allowed, Number of google review in lakhs, Best Time to visit]\n",
      "Index: []\n"
     ]
    }
   ],
   "source": [
    "# Check for NaN values\n",
    "print(\"NaN Values:\")\n",
    "print(data.isna().sum())\n",
    "\n",
    "# Check for rows with NaN values\n",
    "print(\"Rows with NaN values:\")\n",
    "print(data[data.isna().any(axis=1)])\n"
   ]
  },
  {
   "cell_type": "markdown",
   "metadata": {},
   "source": [
    "Check for Duplicates"
   ]
  },
  {
   "cell_type": "code",
   "execution_count": 6,
   "metadata": {},
   "outputs": [
    {
     "name": "stdout",
     "output_type": "stream",
     "text": [
      "Duplicate Rows:\n",
      "Empty DataFrame\n",
      "Columns: [Unnamed: 0, Zone, State, City, Name, Type, Establishment Year, time needed to visit in hrs, Google review rating, Entrance Fee in INR, Airport with 50km Radius, Weekly Off, Significance, DSLR Allowed, Number of google review in lakhs, Best Time to visit]\n",
      "Index: []\n"
     ]
    }
   ],
   "source": [
    "# Check for duplicate rows\n",
    "print(\"Duplicate Rows:\")\n",
    "print(data[data.duplicated()])\n",
    "\n",
    "# Drop duplicate rows\n",
    "#data_no_duplicates = data.drop_duplicates()\n"
   ]
  },
  {
   "cell_type": "code",
   "execution_count": null,
   "metadata": {},
   "outputs": [],
   "source": []
  }
 ],
 "metadata": {
  "kernelspec": {
   "display_name": "Python 3",
   "language": "python",
   "name": "python3"
  },
  "language_info": {
   "codemirror_mode": {
    "name": "ipython",
    "version": 3
   },
   "file_extension": ".py",
   "mimetype": "text/x-python",
   "name": "python",
   "nbconvert_exporter": "python",
   "pygments_lexer": "ipython3",
   "version": "3.10.4"
  }
 },
 "nbformat": 4,
 "nbformat_minor": 2
}
