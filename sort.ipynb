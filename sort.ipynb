{
 "cells": [
  {
   "cell_type": "code",
   "execution_count": null,
   "metadata": {},
   "outputs": [],
   "source": [
    "import pandas as pd\n",
    "\n",
    "# Load the data into a DataFrame\n",
    "df_t = pd.read_csv('tourist_spots.csv')\n",
    "\n",
    "# Sort the DataFrame based on a specific column, for example, 'Name'\n",
    "df_travel = df_t.sort_values(by='State')\n",
    "\n",
    "# Save the sorted DataFrame to a new CSV file\n",
    "df_travel.to_csv('tourist_spotss.csv', index=False)\n",
    "# Display the sorted DataFrame (optional)\n",
    "print(df_travel)\n"
   ]
  },
  {
   "cell_type": "code",
   "execution_count": null,
   "metadata": {},
   "outputs": [],
   "source": [
    "# Load the data into a DataFrame\n",
    "df = pd.read_csv('temperatur.csv')\n",
    "\n",
    "# Sort the DataFrame based on a specific column, for example, 'Name'\n",
    "sorted_df = df.sort_values(by='States')\n",
    "\n",
    "# Save the sorted DataFrame to a new CSV file\n",
    "sorted_df.to_csv('temperature.csv', index=False)\n",
    "# Display the sorted DataFrame (optional)\n",
    "print(sorted_df)\n"
   ]
  },
  {
   "cell_type": "code",
   "execution_count": 7,
   "metadata": {},
   "outputs": [
    {
     "data": {
      "text/plain": [
       "(325, 20)"
      ]
     },
     "execution_count": 7,
     "metadata": {},
     "output_type": "execute_result"
    }
   ],
   "source": [
    "df_travel.shape"
   ]
  },
  {
   "cell_type": "code",
   "execution_count": null,
   "metadata": {},
   "outputs": [],
   "source": []
  }
 ],
 "metadata": {
  "kernelspec": {
   "display_name": "Python 3",
   "language": "python",
   "name": "python3"
  },
  "language_info": {
   "codemirror_mode": {
    "name": "ipython",
    "version": 3
   },
   "file_extension": ".py",
   "mimetype": "text/x-python",
   "name": "python",
   "nbconvert_exporter": "python",
   "pygments_lexer": "ipython3",
   "version": "3.10.4"
  }
 },
 "nbformat": 4,
 "nbformat_minor": 2
}
